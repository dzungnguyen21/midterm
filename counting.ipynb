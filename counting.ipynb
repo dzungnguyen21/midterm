{
 "cells": [
  {
   "cell_type": "markdown",
   "metadata": {},
   "source": [
    "# Animal Counting using Traditional Image Processing\n",
    "\n",
    "This notebook demonstrates how to count animals in images using basic image processing techniques without deep learning models."
   ]
  },
  {
   "cell_type": "code",
   "execution_count": 1,
   "metadata": {},
   "outputs": [],
   "source": [
    "# Import necessary libraries\n",
    "import cv2\n",
    "import numpy as np\n",
    "import matplotlib.pyplot as plt\n",
    "from scipy import ndimage\n",
    "import os"
   ]
  },
  {
   "cell_type": "code",
   "execution_count": 2,
   "metadata": {},
   "outputs": [
    {
     "name": "stdout",
     "output_type": "stream",
     "text": []
    },
    {
     "name": "stdout",
     "output_type": "stream",
     "text": []
    }
   ],
   "source": [
    "images_counting = []\n",
    "images_finding = []\n",
    "\n",
    "# Function to read all images from a folder\n",
    "def read_images_from_folder(folder_path):\n",
    "    images = []\n",
    "    for filename in os.listdir(folder_path):\n",
    "        # Check if the file is an image (you can add more extensions if needed)\n",
    "        if filename.lower().endswith(('.png', '.jpg', '.jpeg', '.bmp', '.tiff')):\n",
    "            img_path = os.path.join(folder_path, filename)\n",
    "            print(img_path)\n",
    "            img = cv2.imread(img_path)\n",
    "            if img is not None:\n",
    "                # Convert from BGR to RGB for display purposes\n",
    "                img_rgb = cv2.cvtColor(img, cv2.COLOR_BGR2RGB)\n",
    "                images.append(img_rgb)\n",
    "                print(f\"Loaded: {filename}\")\n",
    "            else:\n",
    "                print(f\"Failed to load: {filename}\")\n",
    "    return images\n",
    "\n",
    "# Define paths to the Counting and Finding folders\n",
    "counting_folder_path = \"Counting\"\n",
    "finding_folder_path = \"Finding\"\n",
    "\n",
    "# Load images from both folders\n",
    "print(\"Loading images from Counting folder...\")\n",
    "images_counting = read_images_from_folder(counting_folder_path)\n",
    "print(f\"Loaded {len(images_counting)} images from Counting folder.\\n\")\n",
    "\n",
    "print(\"Loading images from Finding folder...\")\n",
    "images_finding = read_images_from_folder(finding_folder_path)\n",
    "print(f\"Loaded {len(images_finding)} images from Finding folder.\")\n",
    "\n",
    "# Display a sample image from each folder if available\n",
    "plt.figure(figsize=(12, 6))\n",
    "\n",
    "if len(images_counting) > 0:\n",
    "    plt.subplot(1, 2, 1)\n",
    "    plt.imshow(images_counting[0])\n",
    "    plt.title(\"Sample from Counting folder\")\n",
    "    plt.axis('off')\n",
    "\n",
    "if len(images_finding) > 0:\n",
    "    plt.subplot(1, 2, 2)\n",
    "    plt.imshow(images_finding[0])\n",
    "    plt.title(\"Sample from Finding folder\")\n",
    "    plt.axis('off')\n",
    "\n",
    "plt.tight_layout()\n",
    "plt.show()"
   ]
  },
  {
   "cell_type": "code",
   "execution_count": null,
   "metadata": {},
   "outputs": [
    {
     "name": "stdout",
     "output_type": "stream",
     "text": []
    },
    {
     "name": "stdout",
     "output_type": "stream",
     "text": []
    }
   ],
   "source": [
    "import cv2\n",
    "import numpy as np\n",
    "import matplotlib.pyplot as plt\n",
    "\n",
    "def count_cats(image):\n",
    "    # Convert to grayscale\n",
    "    gray = cv2.cvtColor(image, cv2.COLOR_RGB2GRAY)\n",
    "    \n",
    "    \n",
    "    # Apply histogram equalization to improve contrast\n",
    "    equalized = cv2.equalizeHist(gray)\n",
    "          \n",
    "    \n",
    "    # Apply Gaussian blur to reduce noise\n",
    "    blur = cv2.GaussianBlur(equalized, (5, 5), 0)\n",
    "    \n",
    "    # Apply adaptive thresholding\n",
    "    thresh = cv2.adaptiveThreshold(blur, 255, cv2.ADAPTIVE_THRESH_GAUSSIAN_C, \n",
    "                                   cv2.THRESH_BINARY_INV, 11, 2)\n",
    "    \n",
    "    # Morphological operations to clean up the image\n",
    "    kernel = np.ones((3, 3), np.uint8)\n",
    "    opening = cv2.morphologyEx(thresh, cv2.MORPH_OPEN, kernel, iterations=2)\n",
    "    \n",
    "    # Find contours\n",
    "    contours, _ = cv2.findContours(opening, cv2.RETR_EXTERNAL, cv2.CHAIN_APPROX_SIMPLE)\n",
    "    \n",
    "    # Filter contours by size to eliminate noise\n",
    "    min_contour_area = 500  # Adjust based on your images\n",
    "    filtered_contours = [cnt for cnt in contours if cv2.contourArea(cnt) > min_contour_area]\n",
    "    \n",
    "    # Draw bounding boxes around detected cats\n",
    "    result = image.copy()\n",
    "    for i, contour in enumerate(filtered_contours):\n",
    "        x, y, w, h = cv2.boundingRect(contour)\n",
    "        # Draw rectangle and label\n",
    "        cv2.rectangle(result, (x, y), (x + w, y + h), (0, 255, 0), 2)\n",
    "        cv2.putText(result, f'Cat {i+1}', (x, y-10), \n",
    "                   cv2.FONT_HERSHEY_SIMPLEX, 0.9, (0, 255, 0), 2)\n",
    "    \n",
    "    # Count the number of filtered contours\n",
    "    count = len(filtered_contours)\n",
    "    \n",
    "    return result, count\n",
    "\n",
    "# Apply the function to count cats in the first image\n",
    "if len(images_counting) > 0:\n",
    "    result_img, number_of_cats = count_cats(images_counting[0])\n",
    "    \n",
    "    # Display the original and processed images side by side\n",
    "    plt.figure(figsize=(12, 6))\n",
    "    \n",
    "    plt.subplot(1, 2, 1)\n",
    "    plt.imshow(images_counting[0])\n",
    "    plt.title(\"Original Image\")\n",
    "    plt.axis('off')\n",
    "    \n",
    "    plt.subplot(1, 2, 2)\n",
    "    plt.imshow(result_img)\n",
    "    plt.title(f\"Detected Cats: {number_of_cats}\")\n",
    "    plt.axis('off')\n",
    "    \n",
    "    plt.tight_layout()\n",
    "    plt.show()\n",
    "    \n",
    "    print(f\"Number of cats detected in the image: {number_of_cats}\")\n",
    "else:\n",
    "    print(\"No images found in the counting folder.\")\n"
   ]
  }
 ],
 "metadata": {
  "kernelspec": {
   "display_name": "Python 3",
   "language": "python",
   "name": "python3"
  },
  "language_info": {
   "codemirror_mode": {
    "name": "ipython",
    "version": 3
   },
   "file_extension": ".py",
   "mimetype": "text/x-python",
   "name": "python",
   "nbconvert_exporter": "python",
   "pygments_lexer": "ipython3",
   "version": "3.12.8"
  }
 },
 "nbformat": 4,
 "nbformat_minor": 2
}
